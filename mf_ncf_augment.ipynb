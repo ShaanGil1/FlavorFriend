{
  "cells": [
    {
      "cell_type": "code",
      "execution_count": null,
      "metadata": {
        "id": "XBJ74uOSbWTe"
      },
      "outputs": [],
      "source": [
        "import pandas as pd\n",
        "import numpy as np\n",
        "import matplotlib.pyplot as plot\n",
        "import torch\n",
        "from torch import nn\n",
        "from torch.utils.data import TensorDataset, random_split, DataLoader"
      ]
    },
    {
      "cell_type": "code",
      "execution_count": null,
      "metadata": {
        "colab": {
          "base_uri": "https://localhost:8080/"
        },
        "id": "wpWOaUwpbYfp",
        "outputId": "ac4224df-d943-4cb0-e512-5f061bcfbbb0"
      },
      "outputs": [
        {
          "name": "stdout",
          "output_type": "stream",
          "text": [
            "Mounted at /content/MyDrive\n"
          ]
        }
      ],
      "source": [
        "from google.colab import drive\n",
        "drive.mount('/content/MyDrive')\n",
        "%cd /content/MyDrive/MyDrive"
      ]
    },
    {
      "cell_type": "code",
      "execution_count": null,
      "metadata": {
        "colab": {
          "base_uri": "https://localhost:8080/"
        },
        "id": "w1b9XkDDbk5f",
        "outputId": "3668826e-4d31-48d7-f50c-85a686af699c"
      },
      "outputs": [
        {
          "name": "stdout",
          "output_type": "stream",
          "text": [
            "/content/MyDrive/MyDrive\n"
          ]
        }
      ],
      "source": [
        "base_dir = 'yelp_dataset'"
      ]
    },
    {
      "cell_type": "code",
      "execution_count": null,
      "metadata": {
        "id": "bCuxoQyRbWTg"
      },
      "outputs": [],
      "source": [
        "df_b = pd.read_csv(f'{base_dir}/business.csv')"
      ]
    },
    {
      "cell_type": "code",
      "execution_count": null,
      "metadata": {
        "id": "auOK-SO4bjyN"
      },
      "outputs": [],
      "source": []
    },
    {
      "cell_type": "code",
      "execution_count": null,
      "metadata": {
        "id": "VUn7Sm4RbWTh"
      },
      "outputs": [],
      "source": [
        "df_b['id'] = df_b.index"
      ]
    },
    {
      "cell_type": "code",
      "execution_count": null,
      "metadata": {
        "id": "zvA0D3VybWTh"
      },
      "outputs": [],
      "source": [
        "df_b = df_b.drop(['address','city','state','postal_code','latitude','longitude','is_open','hours'],axis=1)"
      ]
    },
    {
      "cell_type": "code",
      "execution_count": null,
      "metadata": {
        "id": "n6FfmwlxbWTh"
      },
      "outputs": [],
      "source": [
        "bid_to_id = {}\n",
        "for i,r in df_b.iterrows():\n",
        "    bid_to_id[r['business_id']] = r['id']"
      ]
    },
    {
      "cell_type": "code",
      "execution_count": null,
      "metadata": {
        "colab": {
          "base_uri": "https://localhost:8080/"
        },
        "id": "iQcxKE46bWTh",
        "outputId": "c43b5279-7bad-4f69-d444-c687c4498d98"
      },
      "outputs": [
        {
          "data": {
            "text/plain": [
              "7314"
            ]
          },
          "execution_count": 8,
          "metadata": {},
          "output_type": "execute_result"
        }
      ],
      "source": [
        "len(df_b)"
      ]
    },
    {
      "cell_type": "code",
      "execution_count": null,
      "metadata": {
        "id": "zOsZVhpWbWTh"
      },
      "outputs": [],
      "source": [
        "df_users = pd.read_csv(f'{base_dir}/users.csv')"
      ]
    },
    {
      "cell_type": "code",
      "execution_count": null,
      "metadata": {
        "id": "UeiPEhebbWTi"
      },
      "outputs": [],
      "source": [
        "df_users['id'] = df_users.index"
      ]
    },
    {
      "cell_type": "code",
      "execution_count": null,
      "metadata": {
        "id": "3GPmgjuIbWTi"
      },
      "outputs": [],
      "source": [
        "uid_to_id = {}\n",
        "for i,r in df_users.iterrows():\n",
        "    uid_to_id[r['user_id']] = r['id']"
      ]
    },
    {
      "cell_type": "code",
      "execution_count": null,
      "metadata": {
        "id": "y0RVQG6rbWTi"
      },
      "outputs": [],
      "source": [
        "df_users = df_users.drop(['yelping_since','elite','friends'],axis=1)"
      ]
    },
    {
      "cell_type": "code",
      "execution_count": null,
      "metadata": {
        "colab": {
          "base_uri": "https://localhost:8080/"
        },
        "id": "2tfeymrebWTi",
        "outputId": "b7bbc5ff-e971-483f-9cc1-035dfeeb2af4"
      },
      "outputs": [
        {
          "data": {
            "text/plain": [
              "68587"
            ]
          },
          "execution_count": 13,
          "metadata": {},
          "output_type": "execute_result"
        }
      ],
      "source": [
        "len(df_users)"
      ]
    },
    {
      "cell_type": "code",
      "execution_count": null,
      "metadata": {
        "id": "aQF8yyAtbWTj"
      },
      "outputs": [],
      "source": [
        "def one_hot(idx, length):\n",
        "   a = torch.zeros(length)\n",
        "   a[idx] = 1\n",
        "   return a"
      ]
    },
    {
      "cell_type": "code",
      "execution_count": null,
      "metadata": {
        "colab": {
          "base_uri": "https://localhost:8080/"
        },
        "id": "e3qp7LbpbWTj",
        "outputId": "7760c002-aec6-42e0-a7c6-7b06726bc635"
      },
      "outputs": [
        {
          "data": {
            "text/plain": [
              "tensor([0., 1., 0., 0., 0., 0., 0., 0., 0., 0.])"
            ]
          },
          "execution_count": 15,
          "metadata": {},
          "output_type": "execute_result"
        }
      ],
      "source": [
        "one_hot(1,10)"
      ]
    },
    {
      "cell_type": "code",
      "execution_count": null,
      "metadata": {
        "id": "apfOFuvcbWTj"
      },
      "outputs": [],
      "source": [
        "df_reviews = pd.read_csv(f'{base_dir}/reviews.csv')"
      ]
    },
    {
      "cell_type": "code",
      "execution_count": null,
      "metadata": {
        "colab": {
          "base_uri": "https://localhost:8080/"
        },
        "id": "5Il3i6JzbWTj",
        "outputId": "a2a44099-5be3-4418-e6b2-ecc73de2a649"
      },
      "outputs": [
        {
          "data": {
            "text/html": [
              "\n",
              "  <div id=\"df-7f660df9-be5c-45ce-bc3f-780f3a539d57\">\n",
              "    <div class=\"colab-df-container\">\n",
              "      <div>\n",
              "<style scoped>\n",
              "    .dataframe tbody tr th:only-of-type {\n",
              "        vertical-align: middle;\n",
              "    }\n",
              "\n",
              "    .dataframe tbody tr th {\n",
              "        vertical-align: top;\n",
              "    }\n",
              "\n",
              "    .dataframe thead th {\n",
              "        text-align: right;\n",
              "    }\n",
              "</style>\n",
              "<table border=\"1\" class=\"dataframe\">\n",
              "  <thead>\n",
              "    <tr style=\"text-align: right;\">\n",
              "      <th></th>\n",
              "      <th>review_id</th>\n",
              "      <th>user_id</th>\n",
              "      <th>business_id</th>\n",
              "      <th>stars</th>\n",
              "      <th>useful</th>\n",
              "      <th>funny</th>\n",
              "      <th>cool</th>\n",
              "      <th>text</th>\n",
              "      <th>date</th>\n",
              "      <th>score</th>\n",
              "      <th>negative</th>\n",
              "      <th>neutral</th>\n",
              "      <th>positive</th>\n",
              "      <th>compound</th>\n",
              "    </tr>\n",
              "  </thead>\n",
              "  <tbody>\n",
              "    <tr>\n",
              "      <th>0</th>\n",
              "      <td>KU_O5udG6zpxOg-VcAEodg</td>\n",
              "      <td>mh_-eMZ6K5RLWhZyISBhwA</td>\n",
              "      <td>XQfwVwDr-v0ZS3_CbbE5Xw</td>\n",
              "      <td>3.0</td>\n",
              "      <td>0</td>\n",
              "      <td>0</td>\n",
              "      <td>0</td>\n",
              "      <td>If you decide to eat here, just be aware it is...</td>\n",
              "      <td>2018-07-07 22:09:11</td>\n",
              "      <td>{'neg': 0.0, 'neu': 0.893, 'pos': 0.107, 'comp...</td>\n",
              "      <td>0.000</td>\n",
              "      <td>0.893</td>\n",
              "      <td>0.107</td>\n",
              "      <td>0.8597</td>\n",
              "    </tr>\n",
              "    <tr>\n",
              "      <th>1</th>\n",
              "      <td>AqPFMleE6RsU23_auESxiA</td>\n",
              "      <td>_7bHUi9Uuf5__HHc_Q8guQ</td>\n",
              "      <td>kxX2SOes4o-D3ZQBkiMRfA</td>\n",
              "      <td>5.0</td>\n",
              "      <td>1</td>\n",
              "      <td>0</td>\n",
              "      <td>1</td>\n",
              "      <td>Wow!  Yummy, different,  delicious.   Our favo...</td>\n",
              "      <td>2015-01-04 00:01:03</td>\n",
              "      <td>{'neg': 0.0, 'neu': 0.66, 'pos': 0.34, 'compou...</td>\n",
              "      <td>0.000</td>\n",
              "      <td>0.660</td>\n",
              "      <td>0.340</td>\n",
              "      <td>0.9588</td>\n",
              "    </tr>\n",
              "    <tr>\n",
              "      <th>2</th>\n",
              "      <td>Xs8Z8lmKkosqW5mw_sVAoA</td>\n",
              "      <td>IQsF3Rc6IgCzjVV9DE8KXg</td>\n",
              "      <td>eFvzHawVJofxSnD7TgbZtg</td>\n",
              "      <td>5.0</td>\n",
              "      <td>0</td>\n",
              "      <td>0</td>\n",
              "      <td>0</td>\n",
              "      <td>My absolute favorite cafe in the city. Their b...</td>\n",
              "      <td>2014-11-12 15:30:27</td>\n",
              "      <td>{'neg': 0.025, 'neu': 0.738, 'pos': 0.237, 'co...</td>\n",
              "      <td>0.025</td>\n",
              "      <td>0.738</td>\n",
              "      <td>0.237</td>\n",
              "      <td>0.9679</td>\n",
              "    </tr>\n",
              "    <tr>\n",
              "      <th>3</th>\n",
              "      <td>G_5UczbCBJriUAbxz3J7Tw</td>\n",
              "      <td>clWLI5OZP2ad25ugMVI8gg</td>\n",
              "      <td>x4XdNhp0Xn8lOivzc77J-g</td>\n",
              "      <td>5.0</td>\n",
              "      <td>0</td>\n",
              "      <td>0</td>\n",
              "      <td>0</td>\n",
              "      <td>Best thai food in the area.  Everything was au...</td>\n",
              "      <td>2013-08-15 15:27:51</td>\n",
              "      <td>{'neg': 0.0, 'neu': 0.586, 'pos': 0.414, 'comp...</td>\n",
              "      <td>0.000</td>\n",
              "      <td>0.586</td>\n",
              "      <td>0.414</td>\n",
              "      <td>0.8910</td>\n",
              "    </tr>\n",
              "    <tr>\n",
              "      <th>4</th>\n",
              "      <td>DyrAIuKl60j_X8Yrrv-kpg</td>\n",
              "      <td>mNsVyC9tQVYtzLOCbh2Piw</td>\n",
              "      <td>MWmXGQ98KbRo3vsS5nZhMA</td>\n",
              "      <td>5.0</td>\n",
              "      <td>1</td>\n",
              "      <td>0</td>\n",
              "      <td>0</td>\n",
              "      <td>I recently had dinner here with my wife over t...</td>\n",
              "      <td>2014-10-27 02:47:28</td>\n",
              "      <td>{'neg': 0.026, 'neu': 0.753, 'pos': 0.221, 'co...</td>\n",
              "      <td>0.026</td>\n",
              "      <td>0.753</td>\n",
              "      <td>0.221</td>\n",
              "      <td>0.9646</td>\n",
              "    </tr>\n",
              "  </tbody>\n",
              "</table>\n",
              "</div>\n",
              "      <button class=\"colab-df-convert\" onclick=\"convertToInteractive('df-7f660df9-be5c-45ce-bc3f-780f3a539d57')\"\n",
              "              title=\"Convert this dataframe to an interactive table.\"\n",
              "              style=\"display:none;\">\n",
              "        \n",
              "  <svg xmlns=\"http://www.w3.org/2000/svg\" height=\"24px\"viewBox=\"0 0 24 24\"\n",
              "       width=\"24px\">\n",
              "    <path d=\"M0 0h24v24H0V0z\" fill=\"none\"/>\n",
              "    <path d=\"M18.56 5.44l.94 2.06.94-2.06 2.06-.94-2.06-.94-.94-2.06-.94 2.06-2.06.94zm-11 1L8.5 8.5l.94-2.06 2.06-.94-2.06-.94L8.5 2.5l-.94 2.06-2.06.94zm10 10l.94 2.06.94-2.06 2.06-.94-2.06-.94-.94-2.06-.94 2.06-2.06.94z\"/><path d=\"M17.41 7.96l-1.37-1.37c-.4-.4-.92-.59-1.43-.59-.52 0-1.04.2-1.43.59L10.3 9.45l-7.72 7.72c-.78.78-.78 2.05 0 2.83L4 21.41c.39.39.9.59 1.41.59.51 0 1.02-.2 1.41-.59l7.78-7.78 2.81-2.81c.8-.78.8-2.07 0-2.86zM5.41 20L4 18.59l7.72-7.72 1.47 1.35L5.41 20z\"/>\n",
              "  </svg>\n",
              "      </button>\n",
              "      \n",
              "  <style>\n",
              "    .colab-df-container {\n",
              "      display:flex;\n",
              "      flex-wrap:wrap;\n",
              "      gap: 12px;\n",
              "    }\n",
              "\n",
              "    .colab-df-convert {\n",
              "      background-color: #E8F0FE;\n",
              "      border: none;\n",
              "      border-radius: 50%;\n",
              "      cursor: pointer;\n",
              "      display: none;\n",
              "      fill: #1967D2;\n",
              "      height: 32px;\n",
              "      padding: 0 0 0 0;\n",
              "      width: 32px;\n",
              "    }\n",
              "\n",
              "    .colab-df-convert:hover {\n",
              "      background-color: #E2EBFA;\n",
              "      box-shadow: 0px 1px 2px rgba(60, 64, 67, 0.3), 0px 1px 3px 1px rgba(60, 64, 67, 0.15);\n",
              "      fill: #174EA6;\n",
              "    }\n",
              "\n",
              "    [theme=dark] .colab-df-convert {\n",
              "      background-color: #3B4455;\n",
              "      fill: #D2E3FC;\n",
              "    }\n",
              "\n",
              "    [theme=dark] .colab-df-convert:hover {\n",
              "      background-color: #434B5C;\n",
              "      box-shadow: 0px 1px 3px 1px rgba(0, 0, 0, 0.15);\n",
              "      filter: drop-shadow(0px 1px 2px rgba(0, 0, 0, 0.3));\n",
              "      fill: #FFFFFF;\n",
              "    }\n",
              "  </style>\n",
              "\n",
              "      <script>\n",
              "        const buttonEl =\n",
              "          document.querySelector('#df-7f660df9-be5c-45ce-bc3f-780f3a539d57 button.colab-df-convert');\n",
              "        buttonEl.style.display =\n",
              "          google.colab.kernel.accessAllowed ? 'block' : 'none';\n",
              "\n",
              "        async function convertToInteractive(key) {\n",
              "          const element = document.querySelector('#df-7f660df9-be5c-45ce-bc3f-780f3a539d57');\n",
              "          const dataTable =\n",
              "            await google.colab.kernel.invokeFunction('convertToInteractive',\n",
              "                                                     [key], {});\n",
              "          if (!dataTable) return;\n",
              "\n",
              "          const docLinkHtml = 'Like what you see? Visit the ' +\n",
              "            '<a target=\"_blank\" href=https://colab.research.google.com/notebooks/data_table.ipynb>data table notebook</a>'\n",
              "            + ' to learn more about interactive tables.';\n",
              "          element.innerHTML = '';\n",
              "          dataTable['output_type'] = 'display_data';\n",
              "          await google.colab.output.renderOutput(dataTable, element);\n",
              "          const docLink = document.createElement('div');\n",
              "          docLink.innerHTML = docLinkHtml;\n",
              "          element.appendChild(docLink);\n",
              "        }\n",
              "      </script>\n",
              "    </div>\n",
              "  </div>\n",
              "  "
            ],
            "text/plain": [
              "                review_id                 user_id             business_id  \\\n",
              "0  KU_O5udG6zpxOg-VcAEodg  mh_-eMZ6K5RLWhZyISBhwA  XQfwVwDr-v0ZS3_CbbE5Xw   \n",
              "1  AqPFMleE6RsU23_auESxiA  _7bHUi9Uuf5__HHc_Q8guQ  kxX2SOes4o-D3ZQBkiMRfA   \n",
              "2  Xs8Z8lmKkosqW5mw_sVAoA  IQsF3Rc6IgCzjVV9DE8KXg  eFvzHawVJofxSnD7TgbZtg   \n",
              "3  G_5UczbCBJriUAbxz3J7Tw  clWLI5OZP2ad25ugMVI8gg  x4XdNhp0Xn8lOivzc77J-g   \n",
              "4  DyrAIuKl60j_X8Yrrv-kpg  mNsVyC9tQVYtzLOCbh2Piw  MWmXGQ98KbRo3vsS5nZhMA   \n",
              "\n",
              "   stars  useful  funny  cool  \\\n",
              "0    3.0       0      0     0   \n",
              "1    5.0       1      0     1   \n",
              "2    5.0       0      0     0   \n",
              "3    5.0       0      0     0   \n",
              "4    5.0       1      0     0   \n",
              "\n",
              "                                                text                 date  \\\n",
              "0  If you decide to eat here, just be aware it is...  2018-07-07 22:09:11   \n",
              "1  Wow!  Yummy, different,  delicious.   Our favo...  2015-01-04 00:01:03   \n",
              "2  My absolute favorite cafe in the city. Their b...  2014-11-12 15:30:27   \n",
              "3  Best thai food in the area.  Everything was au...  2013-08-15 15:27:51   \n",
              "4  I recently had dinner here with my wife over t...  2014-10-27 02:47:28   \n",
              "\n",
              "                                               score  negative  neutral  \\\n",
              "0  {'neg': 0.0, 'neu': 0.893, 'pos': 0.107, 'comp...     0.000    0.893   \n",
              "1  {'neg': 0.0, 'neu': 0.66, 'pos': 0.34, 'compou...     0.000    0.660   \n",
              "2  {'neg': 0.025, 'neu': 0.738, 'pos': 0.237, 'co...     0.025    0.738   \n",
              "3  {'neg': 0.0, 'neu': 0.586, 'pos': 0.414, 'comp...     0.000    0.586   \n",
              "4  {'neg': 0.026, 'neu': 0.753, 'pos': 0.221, 'co...     0.026    0.753   \n",
              "\n",
              "   positive  compound  \n",
              "0     0.107    0.8597  \n",
              "1     0.340    0.9588  \n",
              "2     0.237    0.9679  \n",
              "3     0.414    0.8910  \n",
              "4     0.221    0.9646  "
            ]
          },
          "execution_count": 17,
          "metadata": {},
          "output_type": "execute_result"
        }
      ],
      "source": [
        "df_reviews.head()"
      ]
    },
    {
      "cell_type": "code",
      "execution_count": null,
      "metadata": {
        "id": "u0WpkRtobWTk"
      },
      "outputs": [],
      "source": [
        "df_reviews['user_id'] = df_reviews['user_id'].map(uid_to_id)\n",
        "df_reviews['business_id'] = df_reviews['business_id'].map(bid_to_id)"
      ]
    },
    {
      "cell_type": "code",
      "execution_count": null,
      "metadata": {
        "id": "0Ba7dJdubWTk"
      },
      "outputs": [],
      "source": [
        "df_ncf = df_reviews.drop(['review_id','useful','funny','cool','text','date','score','negative','neutral','positive'],axis=1)"
      ]
    },
    {
      "cell_type": "code",
      "execution_count": null,
      "metadata": {
        "colab": {
          "base_uri": "https://localhost:8080/"
        },
        "id": "xjfMy7f1bWTk",
        "outputId": "9da50699-a9f8-4c01-e199-1d95c9d88bac"
      },
      "outputs": [
        {
          "data": {
            "text/plain": [
              "1.0"
            ]
          },
          "execution_count": 20,
          "metadata": {},
          "output_type": "execute_result"
        }
      ],
      "source": [
        "df_ncf['stars'].min()"
      ]
    },
    {
      "cell_type": "code",
      "execution_count": null,
      "metadata": {
        "colab": {
          "base_uri": "https://localhost:8080/"
        },
        "id": "uAikLAZIwfJ_",
        "outputId": "dea936d4-8889-4fa4-8db4-621855c78841"
      },
      "outputs": [
        {
          "data": {
            "text/plain": [
              "626103"
            ]
          },
          "execution_count": 21,
          "metadata": {},
          "output_type": "execute_result"
        }
      ],
      "source": [
        "len(df_ncf)"
      ]
    },
    {
      "cell_type": "code",
      "execution_count": null,
      "metadata": {
        "id": "-tX4Fl99bWTk"
      },
      "outputs": [],
      "source": [
        "num_users, num_businesses = len(df_users), len(df_b)"
      ]
    },
    {
      "cell_type": "code",
      "execution_count": null,
      "metadata": {
        "id": "M3tuVOwTbWTk"
      },
      "outputs": [],
      "source": [
        "df_ncf2 = df_ncf.copy()"
      ]
    },
    {
      "cell_type": "code",
      "execution_count": null,
      "metadata": {
        "id": "VH_8VO8tbWTk"
      },
      "outputs": [],
      "source": [
        "df_ncf2['score'] = (df_ncf2['stars'] + ((df_ncf2['compound'] + 1) * 2.5)) / 10\n",
        "#df_ncf2['score'] = df_ncf2['stars'] / 5"
      ]
    },
    {
      "cell_type": "code",
      "execution_count": null,
      "metadata": {
        "id": "yqg8AgEAbWTk"
      },
      "outputs": [],
      "source": [
        "df_ncf2 = df_ncf2.drop(['stars','compound'],axis=1)"
      ]
    },
    {
      "cell_type": "code",
      "execution_count": null,
      "metadata": {
        "id": "35P_hIBDbWTk"
      },
      "outputs": [],
      "source": [
        "df_ncf2 = df_ncf2.sample(frac=1)"
      ]
    },
    {
      "cell_type": "code",
      "execution_count": null,
      "metadata": {
        "id": "sCZcFxf9iFqA"
      },
      "outputs": [],
      "source": [
        "#MATRIX FACRORIZATION\n",
        "from collections import defaultdict\n",
        "\n",
        "R_ui,R_iu = defaultdict(dict),defaultdict(dict)\n",
        "for i,r in df_ncf2.iterrows():\n",
        "  R_ui[int(r['user_id'])][int(r['business_id'])] = r['score']\n",
        "  R_iu[int(r['business_id'])][int(r['user_id'])] = r['score']\n",
        "\n",
        "#credit to hw6\n",
        "def gradient_descent_update(U,V,K):\n",
        "\n",
        "  mu = 0.001\n",
        "  lambda_value = 0.001\n",
        "  for user in U.keys():\n",
        "    updates = np.zeros(K)\n",
        "    for item in R_ui[user].keys():\n",
        "      pred = np.inner(U[user],V[item])\n",
        "      error = R_ui[user][item] - pred\n",
        "      updates += error*V[item]\n",
        "    final_updates = 2*mu*updates - 2*lambda_value*U[user]\n",
        "    U[user] += final_updates\n",
        "\n",
        "  for item in V.keys():\n",
        "    updates = np.zeros(K)\n",
        "    for user in R_iu[item].keys():\n",
        "      pred = np.inner(U[user],V[item])\n",
        "      error = R_iu[item][user] - pred\n",
        "      updates += error*U[user]\n",
        "    final_updates = 2*mu*updates - 2*lambda_value*V[item]\n",
        "    V[item] += final_updates\n",
        "  return U,V\n",
        "\n",
        "K=32\n",
        "epochs = 50\n",
        "\n",
        "U,V = defaultdict(np.array),defaultdict(np.array)\n",
        "maximum_val = np.sqrt(df_ncf2['score'].mean() / K)\n",
        "\n",
        "for i,r in df_ncf2.iterrows():\n",
        "  user_u = int(r['user_id'])\n",
        "  item_i = int(r['business_id'])\n",
        "  if user_u not in U:\n",
        "    U[user_u] = np.random.random(K) * maximum_val\n",
        "  if item_i not in V:\n",
        "    V[item_i] = np.random.random(K) * maximum_val\n",
        "    \n",
        "\n",
        "for epoch in range(epochs):\n",
        "  U, V = gradient_descent_update(U, V, K)\n",
        "\n",
        "RMSE = 0\n",
        "for i,r in df_ncf2.iterrows():\n",
        "  user_u = int(r['user_id'])\n",
        "  item_i = int(r['business_id'])\n",
        "  RMSE += (r['score'] - (U[user_u].T @ V[item_i]))**2\n",
        "RMSE /= len(df_ncf2)\n",
        "RMSE = np.sqrt(RMSE)\n",
        "RMSE"
      ]
    },
    {
      "cell_type": "code",
      "execution_count": null,
      "metadata": {
        "id": "ZX1W7OyubWTk"
      },
      "outputs": [],
      "source": [
        "class NCF(nn.Module):\n",
        "    def __init__(self, user_input_size, item_input_size, embed_size, hidden_size, device):\n",
        "        super().__init__()\n",
        "\n",
        "        \n",
        "        self.user_input_size = user_input_size\n",
        "        self.item_input_size = item_input_size\n",
        "        self.embed_size = embed_size\n",
        "        self.hidden_size = hidden_size\n",
        "        self.device = device\n",
        "\n",
        "        #Embedding Layers\n",
        "        self.user_embed = nn.Embedding(self.user_input_size, self.embed_size)\n",
        "        self.item_embed = nn.Embedding(self.item_input_size, self.embed_size)\n",
        "\n",
        "        #Fully Connected Layers\n",
        "        self.fc1 = nn.Linear(2 * self.embed_size, self.hidden_size)\n",
        "        self.fc2 = nn.Linear(self.hidden_size, self.hidden_size)\n",
        "        self.fc3 = nn.Linear(self.hidden_size, self.hidden_size)\n",
        "        self.fc4 = nn.Linear(self.hidden_size, self.hidden_size)\n",
        "        self.fc5 = nn.Linear(self.embed_size + self.hidden_size, 1)\n",
        "\n",
        "        #Relu Activation\n",
        "        self.relu = nn.ReLU()\n",
        "\n",
        "        self.to(self.device)\n",
        "\n",
        "    def forward(self, x):\n",
        "\n",
        "        user_embed = self.user_embed(x[:,0])\n",
        "        item_embed = self.item_embed(x[:,1])\n",
        "        concat_embeds = torch.concat((user_embed,item_embed),axis=-1)\n",
        "\n",
        "        \n",
        "        gmf_embed = torch.tensor(np.array([U[int(x[i,0])] * V[int(x[i,1])] for i in range(x.shape[0])])).to(item_embed.dtype).to(self.device)\n",
        "\n",
        "\n",
        "        out = self.fc1(concat_embeds)\n",
        "        out = self.relu(out)\n",
        "\n",
        "        out = self.fc2(out)\n",
        "        out = self.relu(out)\n",
        "\n",
        "        out = self.fc3(out)\n",
        "        out = self.relu(out)\n",
        "        \n",
        "        out = self.fc4(out)\n",
        "        out = self.relu(out)\n",
        "\n",
        "        concat_gmf_out = torch.concat((gmf_embed, out),axis=-1)\n",
        "        out = self.fc5(concat_gmf_out)\n",
        "        return out\n"
      ]
    },
    {
      "cell_type": "code",
      "execution_count": null,
      "metadata": {
        "id": "OV7ivcnAbWTl"
      },
      "outputs": [],
      "source": [
        "def train(model, train_data, test_data, epochs, optimizer, criterion):\n",
        "    \n",
        "    for epoch in range(epochs):\n",
        "        train_loss = 0\n",
        "        test_loss = 0\n",
        "        for i, (data,target) in enumerate(train_data):\n",
        "          model.zero_grad()\n",
        "          pred_y = model(data)\n",
        "          loss = criterion(pred_y.squeeze(), target.to(torch.float32))\n",
        "          train_loss += loss\n",
        "          loss.backward()\n",
        "          optimizer.step()\n",
        "\n",
        "        train_loss /= len(train_data)\n",
        "        print(f'Epoch {epoch+1}:\\nTrain RMSE:{torch.sqrt(train_loss)}',end='')\n",
        "\n",
        "        with torch.no_grad():\n",
        "          for i, (data, target) in enumerate(test_data):\n",
        "            pred_y = model(data)\n",
        "            loss = criterion(pred_y.squeeze(1), target.to(torch.float32))\n",
        "            test_loss += loss\n",
        "        \n",
        "        \n",
        "        test_loss /= len(test_data)\n",
        "        print(f'\\tTest Loss:{torch.sqrt(test_loss)}')\n",
        "\n"
      ]
    },
    {
      "cell_type": "code",
      "execution_count": null,
      "metadata": {
        "colab": {
          "base_uri": "https://localhost:8080/"
        },
        "id": "dJ7454mAfaDI",
        "outputId": "b038b3c4-d1d4-4baa-def8-20d7449ef4b3"
      },
      "outputs": [
        {
          "name": "stdout",
          "output_type": "stream",
          "text": [
            "cuda:0\n"
          ]
        }
      ],
      "source": [
        "device = torch.device(\"cuda:0\" if torch.cuda.is_available() else \"cpu\")\n",
        "print(device)"
      ]
    },
    {
      "cell_type": "code",
      "execution_count": null,
      "metadata": {
        "id": "b5eTgYcrbWTl"
      },
      "outputs": [],
      "source": [
        "X, y = torch.tensor(df_ncf2.iloc[:,:-1].values).to(device), torch.tensor(df_ncf2.iloc[:,-1].values).to(device)\n",
        "train_data, test_data = random_split(TensorDataset(X,y), [0.8,0.2])\n",
        "train_data = DataLoader(train_data, batch_size=16)\n",
        "test_data = DataLoader(test_data, batch_size=8)"
      ]
    },
    {
      "cell_type": "code",
      "execution_count": null,
      "metadata": {
        "colab": {
          "base_uri": "https://localhost:8080/"
        },
        "id": "eCZFeQ2JbWTl",
        "outputId": "c73e428b-c40a-42eb-abc0-08da6bb3d34d"
      },
      "outputs": [
        {
          "name": "stdout",
          "output_type": "stream",
          "text": [
            "Epoch 1:\n",
            "Train RMSE:0.19745971262454987\tTest Loss:0.1909676045179367\n",
            "Epoch 2:\n",
            "Train RMSE:0.1897418051958084\tTest Loss:0.19009818136692047\n",
            "Epoch 3:\n",
            "Train RMSE:0.1865888237953186\tTest Loss:0.1896887570619583\n",
            "Epoch 4:\n",
            "Train RMSE:0.183143749833107\tTest Loss:0.19033466279506683\n",
            "Epoch 5:\n",
            "Train RMSE:0.17932623624801636\tTest Loss:0.19325464963912964\n"
          ]
        }
      ],
      "source": [
        "\n",
        "embed_size = 32\n",
        "hidden_size = 2048\n",
        "\n",
        "model = NCF(user_input_size=num_users, item_input_size=num_businesses, \\\n",
        "            embed_size=embed_size, hidden_size=hidden_size, device=device)\n",
        "\n",
        "learning_rate = 9e-4\n",
        "reg_rate = 1e-7\n",
        "optimizer = torch.optim.Adam(model.parameters(),lr=learning_rate,weight_decay=reg_rate)\n",
        "criterion = nn.MSELoss()\n",
        "epochs = 5\n",
        "\n",
        "train(model, train_data, test_data, epochs, optimizer, criterion)"
      ]
    },
    {
      "cell_type": "code",
      "execution_count": null,
      "metadata": {
        "id": "xaIRytfcbWTl"
      },
      "outputs": [],
      "source": [
        "torch.save(model.state_dict(), 'ncf_gmf_vader_params.pth')"
      ]
    }
  ],
  "metadata": {
    "accelerator": "GPU",
    "colab": {
      "provenance": []
    },
    "gpuClass": "standard",
    "kernelspec": {
      "display_name": "cse6240proj",
      "language": "python",
      "name": "python3"
    },
    "language_info": {
      "codemirror_mode": {
        "name": "ipython",
        "version": 3
      },
      "file_extension": ".py",
      "mimetype": "text/x-python",
      "name": "python",
      "nbconvert_exporter": "python",
      "pygments_lexer": "ipython3",
      "version": "3.11.0"
    }
  },
  "nbformat": 4,
  "nbformat_minor": 0
}
