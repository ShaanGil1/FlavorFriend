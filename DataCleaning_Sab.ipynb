{
  "nbformat": 4,
  "nbformat_minor": 0,
  "metadata": {
    "colab": {
      "provenance": [],
      "machine_shape": "hm",
      "collapsed_sections": [
        "1OPTToprqsZH"
      ]
    },
    "kernelspec": {
      "name": "python3",
      "display_name": "Python 3"
    },
    "language_info": {
      "name": "python"
    },
    "accelerator": "GPU",
    "gpuClass": "premium"
  },
  "cells": [
    {
      "cell_type": "code",
      "source": [
        "import pandas as pd\n",
        "import numpy as np\n",
        "import tensorflow"
      ],
      "metadata": {
        "id": "jh00PjPXl3KU"
      },
      "execution_count": 1,
      "outputs": []
    },
    {
      "cell_type": "markdown",
      "source": [
        "### Data Exploration"
      ],
      "metadata": {
        "id": "1OPTToprqsZH"
      }
    },
    {
      "cell_type": "code",
      "source": [
        "reviews = pd.read_json('/content/drive/MyDrive/Colab Notebooks/FlavorFriend/Data/yelp_academic_dataset_review.json', chunksize=10000, lines=True)\n",
        "'''\n",
        "get columns: \n",
        "Index(['review_id', 'user_id', 'business_id', 'stars', 'useful', 'funny',\n",
        "       'cool', 'text', 'date'],\n",
        "      dtype='object')\n",
        "'''\n",
        "\n",
        "# for chunk in reviews:\n",
        "#     print(chunk.columns)\n",
        "\n",
        "    "
      ],
      "metadata": {
        "colab": {
          "base_uri": "https://localhost:8080/",
          "height": 36
        },
        "id": "T8tK6EeymudY",
        "outputId": "08d5343b-b043-411d-c5ab-6c39e0583c70"
      },
      "execution_count": 6,
      "outputs": [
        {
          "output_type": "execute_result",
          "data": {
            "text/plain": [
              "\"\\nget columns: \\nIndex(['review_id', 'user_id', 'business_id', 'stars', 'useful', 'funny',\\n       'cool', 'text', 'date'],\\n      dtype='object')\\n\""
            ],
            "application/vnd.google.colaboratory.intrinsic+json": {
              "type": "string"
            }
          },
          "metadata": {},
          "execution_count": 6
        }
      ]
    },
    {
      "cell_type": "code",
      "source": [
        "users_chunk = pd.read_json('/content/drive/MyDrive/Colab Notebooks/FlavorFriend/Data/yelp_academic_dataset_user.json', chunksize=10000, lines=True)\n",
        "users = pd.concat(users_chunk, ignore_index= True)\n",
        "\n",
        "'''\n",
        "columns = Index(['user_id', 'name', 'review_count', 'yelping_since', 'useful', 'funny',\n",
        "       'cool', 'elite', 'friends', 'fans', 'average_stars', 'compliment_hot',\n",
        "       'compliment_more', 'compliment_profile', 'compliment_cute',\n",
        "       'compliment_list', 'compliment_note', 'compliment_plain',\n",
        "       'compliment_cool', 'compliment_funny', 'compliment_writer',\n",
        "       'compliment_photos'],\n",
        "      dtype='object')\n",
        "'''\n",
        "# print(users)\n",
        "# print(len(users))\n",
        "# for chunk in users:\n",
        "#     print(chunk.columns)"
      ],
      "metadata": {
        "colab": {
          "base_uri": "https://localhost:8080/",
          "height": 70
        },
        "id": "YEgWItqPnzVq",
        "outputId": "cd220d8a-0637-44dd-b625-9051ce78a028"
      },
      "execution_count": 2,
      "outputs": [
        {
          "output_type": "execute_result",
          "data": {
            "text/plain": [
              "\"\\ncolumns = Index(['user_id', 'name', 'review_count', 'yelping_since', 'useful', 'funny',\\n       'cool', 'elite', 'friends', 'fans', 'average_stars', 'compliment_hot',\\n       'compliment_more', 'compliment_profile', 'compliment_cute',\\n       'compliment_list', 'compliment_note', 'compliment_plain',\\n       'compliment_cool', 'compliment_funny', 'compliment_writer',\\n       'compliment_photos'],\\n      dtype='object')\\n\""
            ],
            "application/vnd.google.colaboratory.intrinsic+json": {
              "type": "string"
            }
          },
          "metadata": {},
          "execution_count": 2
        }
      ]
    },
    {
      "cell_type": "code",
      "source": [
        "print(len(users))\n",
        "\n",
        "print(len(users['user_id'].unique()))"
      ],
      "metadata": {
        "colab": {
          "base_uri": "https://localhost:8080/"
        },
        "id": "Xux441IFPb8Q",
        "outputId": "32cf8021-b212-41c7-9986-371f682e0d4f"
      },
      "execution_count": 3,
      "outputs": [
        {
          "output_type": "stream",
          "name": "stdout",
          "text": [
            "1987897\n",
            "1987897\n"
          ]
        }
      ]
    },
    {
      "cell_type": "code",
      "source": [
        "bus = pd.read_json('/content/drive/MyDrive/Colab Notebooks/FlavorFriend/Data/yelp_academic_dataset_business.json', chunksize=10000, lines=True)\n",
        "bus = pd.DataFrame(bus)\n",
        "'''\n",
        "columns = Index(['user_id', 'name', 'review_count', 'yelping_since', 'useful', 'funny',\n",
        "       'cool', 'elite', 'friends', 'fans', 'average_stars', 'compliment_hot',\n",
        "       'compliment_more', 'compliment_profile', 'compliment_cute',\n",
        "       'compliment_list', 'compliment_note', 'compliment_plain',\n",
        "       'compliment_cool', 'compliment_funny', 'compliment_writer',\n",
        "       'compliment_photos'],\n",
        "      dtype='object')\n",
        "'''\n",
        "\n",
        "print(len(bus))\n",
        "# for chunk in bus:\n",
        "#     print(chunk.columns)"
      ],
      "metadata": {
        "colab": {
          "base_uri": "https://localhost:8080/"
        },
        "id": "5NJAons7qhE5",
        "outputId": "dfffda7e-5921-4a60-b7d5-a2cdf330e92d"
      },
      "execution_count": 13,
      "outputs": [
        {
          "output_type": "stream",
          "name": "stdout",
          "text": [
            "16\n"
          ]
        },
        {
          "output_type": "stream",
          "name": "stderr",
          "text": [
            "/usr/local/lib/python3.9/dist-packages/pandas/core/internals/construction.py:568: VisibleDeprecationWarning: Creating an ndarray from ragged nested sequences (which is a list-or-tuple of lists-or-tuples-or ndarrays with different lengths or shapes) is deprecated. If you meant to do this, you must specify 'dtype=object' when creating the ndarray.\n",
            "  values = np.array([convert(v) for v in values])\n"
          ]
        }
      ]
    },
    {
      "cell_type": "markdown",
      "source": [
        "### Data Cleaning"
      ],
      "metadata": {
        "id": "qcxCMvOQqw-i"
      }
    },
    {
      "cell_type": "code",
      "source": [
        "class Yelp():\n",
        "\n",
        "  def __init__(self):\n",
        "\n",
        "    reviews_chunk = pd.read_json('/content/drive/MyDrive/Colab Notebooks/FlavorFriend/Data/yelp_academic_dataset_review.json', chunksize=10000, lines=True)\n",
        "    self.reviews = pd.concat(reviews_chunk, ignore_index= True)\n",
        "\n",
        "    users_chunk = pd.read_json('/content/drive/MyDrive/Colab Notebooks/FlavorFriend/Data/yelp_academic_dataset_user.json', chunksize=10000, lines=True)\n",
        "    self.users = pd.concat(users_chunk, ignore_index= True)\n",
        "\n",
        "    business_chunk = pd.read_json('/content/drive/MyDrive/Colab Notebooks/FlavorFriend/Data/yelp_academic_dataset_business.json', chunksize=10000, lines=True)\n",
        "    self.business = pd.concat(business_chunk, ignore_index= True)\n",
        "\n",
        "    '''\n",
        "    Columns: \n",
        "\n",
        "    1. Reviews\n",
        "      ['review_id', 'user_id', 'business_id', 'stars', 'useful', 'funny',\n",
        "       'cool', 'text', 'date']\n",
        "\n",
        "    2. Users\n",
        "        ['user_id', 'name', 'review_count', 'yelping_since', 'useful', 'funny',\n",
        "       'cool', 'elite', 'friends', 'fans', 'average_stars', 'compliment_hot',\n",
        "       'compliment_more', 'compliment_profile', 'compliment_cute',\n",
        "       'compliment_list', 'compliment_note', 'compliment_plain',\n",
        "       'compliment_cool', 'compliment_funny', 'compliment_writer',\n",
        "       'compliment_photos']\n",
        "\n",
        "    3. Business\n",
        "        ['business_id', 'name', 'address', 'city', 'state', 'postal_code',\n",
        "       'latitude', 'longitude', 'stars', 'review_count', 'is_open',\n",
        "       'attributes', 'categories', 'hours']\n",
        "    '''\n",
        "\n",
        "\n",
        "  def Clean_Business(self, review_threshold):\n",
        "    '''\n",
        "    Return \n",
        "    1. restuarants only df\n",
        "    2. restuarant counts\n",
        "    3. total restuarant reviews\n",
        "    '''\n",
        "\n",
        "    count = 0\n",
        "    drop_index = []\n",
        "    df = self.business\n",
        "\n",
        "    for index, row in df.iterrows():\n",
        "        if row[\"categories\"] is not None:\n",
        "            if (\"Restaurants\" in (row[\"categories\"]) or \"Food\" in (row[\"categories\"])) and row[\"is_open\"] == 1 and row[\"review_count\"] >= review_threshold:\n",
        "                count+=1\n",
        "            else:\n",
        "                drop_index.append(index)\n",
        "        else:\n",
        "            drop_index.append(index)\n",
        "\n",
        "    df.drop(drop_index, axis=0, inplace=True)\n",
        "    total_reviews = np.sum(list(df[\"review_count\"]))\n",
        "    \n",
        "    return count, df, total_reviews\n",
        "\n",
        "\n",
        "  \n",
        "  def Clean_Reviews(self, cleaned_business):\n",
        "    '''\n",
        "    cleaned_business: pd.Dataframe()\n",
        "\n",
        "    Return:\n",
        "    1. user_lookup: {user_id : {'count' : reviewcount, 'names' : [list of bus]}}\n",
        "    '''\n",
        "\n",
        "    restuarant_ids = cleaned_business['business_id'].unique()\n",
        "    reviews = self.reviews\n",
        "    filter_review = reviews.loc[reviews['business_id'].isin(restuarant_ids)]\n",
        "\n",
        "    user_lookup = {}\n",
        "\n",
        "    for index, row in filter_review.iterrows():\n",
        "\n",
        "      user_id = row['user_id']\n",
        "      biz_id = row['business_id']\n",
        "\n",
        "      if user_id not in user_lookup.keys():\n",
        "\n",
        "        user_lookup[user_id] = {'count' : 1, 'names' : [biz_id]}\n",
        "\n",
        "      else:\n",
        "        user_lookup[user_id]['count'] += 1\n",
        "        user_lookup[user_id]['names'].append(biz_id)\n",
        "          \n",
        "\n",
        "    return user_lookup\n",
        "\n",
        "\n",
        "\n",
        "\n",
        "  def Reduce_Users(user_lookup, reviewcount):\n",
        "\n",
        "    return \n"
      ],
      "metadata": {
        "id": "F0PQTlOKqF1P"
      },
      "execution_count": 2,
      "outputs": []
    },
    {
      "cell_type": "markdown",
      "source": [
        "### Test"
      ],
      "metadata": {
        "id": "4IzKz0GxbXNU"
      }
    },
    {
      "cell_type": "code",
      "source": [
        "yp = Yelp()\n",
        "\n",
        "_, bu_df, _ = yp.Clean_Business(review_threshold= 15)\n",
        "\n",
        "user_lookup = yp.Clean_Reviews(bu_df)"
      ],
      "metadata": {
        "id": "MslA4lKCpbTw"
      },
      "execution_count": 3,
      "outputs": []
    },
    {
      "cell_type": "code",
      "source": [
        "# print(len(user_lookup))\n",
        "\n",
        "# count = 0\n",
        "\n",
        "# for i in user_lookup:\n",
        "#   if count < 10:\n",
        "#     print(count, i)\n",
        "#     count += 1"
      ],
      "metadata": {
        "id": "ybhVxtSeYbQo"
      },
      "execution_count": 6,
      "outputs": []
    },
    {
      "cell_type": "code",
      "source": [
        "print(user_lookup['mh_-eMZ6K5RLWhZyISBhwA'])\n",
        "\n",
        "print(len(user_lookup['mh_-eMZ6K5RLWhZyISBhwA']['names']))"
      ],
      "metadata": {
        "colab": {
          "base_uri": "https://localhost:8080/"
        },
        "id": "Ov2zQiZzjKsV",
        "outputId": "5d66e640-6269-4fe9-f287-4ba2e6a23c57"
      },
      "execution_count": 4,
      "outputs": [
        {
          "output_type": "stream",
          "name": "stdout",
          "text": [
            "{'count': 20, 'names': ['XQfwVwDr-v0ZS3_CbbE5Xw', '8eDkw7CE0NKqMknPIu26fw', 'tVfJPW14AeuAHDJeleWWdQ', 'mOk3D7VczrDapNuUgLxUQw', 'L4kfcADLCU4T33i7Z0CkuA', 'gpYBhnTk4KzvvH83TsZiQg', 'QWF_PoD4PthsYsq2Tk0GEQ', 'CjNjiHsyV-gvtOsHZB0VJQ', 'rQ1t0zD_TBTqCF06By_UgA', 'VvqYQ98FjO0iYpKHgu91fw', 'sYgyAxvuDP1799oiGXqE_A', 'ol5npt2HXo9r3yKa3wBlYQ', 'A0QbndhHwlqfY0McSy-xQA', 'XsvxRd2u8iRD_S50ZJ5-QQ', 'NnXtMdEJ4QRgaw7hTgbkgg', 'WL-0PLW5IzdnyUHGmiOrgQ', 'QGzyGNkNBnB1q6KgeUL3Cg', 'HpCsADSPPSoCghfcZeT55w', '-rwfGlw6T5czqQO4uZGWYw', 'rAe-1HU5Z-DuUXEbzASXDA']}\n",
            "20\n"
          ]
        }
      ]
    },
    {
      "cell_type": "code",
      "source": [
        "count_list = [num for user_lookup[num]]"
      ],
      "metadata": {
        "id": "cZOunW8wnsH_"
      },
      "execution_count": null,
      "outputs": []
    }
  ]
}