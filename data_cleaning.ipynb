{
 "cells": [
  {
   "cell_type": "code",
   "execution_count": null,
   "id": "b0ae5bef",
   "metadata": {},
   "outputs": [],
   "source": [
    "base_dir = 'yelp_dataset' #set your base directory here"
   ]
  },
  {
   "cell_type": "code",
   "execution_count": null,
   "id": "de537e6b",
   "metadata": {},
   "outputs": [],
   "source": [
    "import pandas as pd\n",
    "import numpy as np\n",
    "business_json_path = f'{base_dir}/yelp_academic_dataset_business.json'\n",
    "df_b = pd.read_json(business_json_path, lines=True)\n"
   ]
  },
  {
   "cell_type": "code",
   "execution_count": 2,
   "id": "9acff641",
   "metadata": {},
   "outputs": [
    {
     "data": {
      "text/html": [
       "<div>\n",
       "<style scoped>\n",
       "    .dataframe tbody tr th:only-of-type {\n",
       "        vertical-align: middle;\n",
       "    }\n",
       "\n",
       "    .dataframe tbody tr th {\n",
       "        vertical-align: top;\n",
       "    }\n",
       "\n",
       "    .dataframe thead th {\n",
       "        text-align: right;\n",
       "    }\n",
       "</style>\n",
       "<table border=\"1\" class=\"dataframe\">\n",
       "  <thead>\n",
       "    <tr style=\"text-align: right;\">\n",
       "      <th></th>\n",
       "      <th>business_id</th>\n",
       "      <th>name</th>\n",
       "      <th>address</th>\n",
       "      <th>city</th>\n",
       "      <th>state</th>\n",
       "      <th>postal_code</th>\n",
       "      <th>latitude</th>\n",
       "      <th>longitude</th>\n",
       "      <th>stars</th>\n",
       "      <th>review_count</th>\n",
       "      <th>is_open</th>\n",
       "      <th>attributes</th>\n",
       "      <th>categories</th>\n",
       "      <th>hours</th>\n",
       "    </tr>\n",
       "  </thead>\n",
       "  <tbody>\n",
       "    <tr>\n",
       "      <th>0</th>\n",
       "      <td>Pns2l4eNsfO8kk83dixA6A</td>\n",
       "      <td>Abby Rappoport, LAC, CMQ</td>\n",
       "      <td>1616 Chapala St, Ste 2</td>\n",
       "      <td>Santa Barbara</td>\n",
       "      <td>CA</td>\n",
       "      <td>93101</td>\n",
       "      <td>34.426679</td>\n",
       "      <td>-119.711197</td>\n",
       "      <td>5.0</td>\n",
       "      <td>7</td>\n",
       "      <td>0</td>\n",
       "      <td>{'ByAppointmentOnly': 'True'}</td>\n",
       "      <td>Doctors, Traditional Chinese Medicine, Naturop...</td>\n",
       "      <td>None</td>\n",
       "    </tr>\n",
       "    <tr>\n",
       "      <th>1</th>\n",
       "      <td>mpf3x-BjTdTEA3yCZrAYPw</td>\n",
       "      <td>The UPS Store</td>\n",
       "      <td>87 Grasso Plaza Shopping Center</td>\n",
       "      <td>Affton</td>\n",
       "      <td>MO</td>\n",
       "      <td>63123</td>\n",
       "      <td>38.551126</td>\n",
       "      <td>-90.335695</td>\n",
       "      <td>3.0</td>\n",
       "      <td>15</td>\n",
       "      <td>1</td>\n",
       "      <td>{'BusinessAcceptsCreditCards': 'True'}</td>\n",
       "      <td>Shipping Centers, Local Services, Notaries, Ma...</td>\n",
       "      <td>{'Monday': '0:0-0:0', 'Tuesday': '8:0-18:30', ...</td>\n",
       "    </tr>\n",
       "    <tr>\n",
       "      <th>2</th>\n",
       "      <td>tUFrWirKiKi_TAnsVWINQQ</td>\n",
       "      <td>Target</td>\n",
       "      <td>5255 E Broadway Blvd</td>\n",
       "      <td>Tucson</td>\n",
       "      <td>AZ</td>\n",
       "      <td>85711</td>\n",
       "      <td>32.223236</td>\n",
       "      <td>-110.880452</td>\n",
       "      <td>3.5</td>\n",
       "      <td>22</td>\n",
       "      <td>0</td>\n",
       "      <td>{'BikeParking': 'True', 'BusinessAcceptsCredit...</td>\n",
       "      <td>Department Stores, Shopping, Fashion, Home &amp; G...</td>\n",
       "      <td>{'Monday': '8:0-22:0', 'Tuesday': '8:0-22:0', ...</td>\n",
       "    </tr>\n",
       "    <tr>\n",
       "      <th>3</th>\n",
       "      <td>MTSW4McQd7CbVtyjqoe9mw</td>\n",
       "      <td>St Honore Pastries</td>\n",
       "      <td>935 Race St</td>\n",
       "      <td>Philadelphia</td>\n",
       "      <td>PA</td>\n",
       "      <td>19107</td>\n",
       "      <td>39.955505</td>\n",
       "      <td>-75.155564</td>\n",
       "      <td>4.0</td>\n",
       "      <td>80</td>\n",
       "      <td>1</td>\n",
       "      <td>{'RestaurantsDelivery': 'False', 'OutdoorSeati...</td>\n",
       "      <td>Restaurants, Food, Bubble Tea, Coffee &amp; Tea, B...</td>\n",
       "      <td>{'Monday': '7:0-20:0', 'Tuesday': '7:0-20:0', ...</td>\n",
       "    </tr>\n",
       "    <tr>\n",
       "      <th>4</th>\n",
       "      <td>mWMc6_wTdE0EUBKIGXDVfA</td>\n",
       "      <td>Perkiomen Valley Brewery</td>\n",
       "      <td>101 Walnut St</td>\n",
       "      <td>Green Lane</td>\n",
       "      <td>PA</td>\n",
       "      <td>18054</td>\n",
       "      <td>40.338183</td>\n",
       "      <td>-75.471659</td>\n",
       "      <td>4.5</td>\n",
       "      <td>13</td>\n",
       "      <td>1</td>\n",
       "      <td>{'BusinessAcceptsCreditCards': 'True', 'Wheelc...</td>\n",
       "      <td>Brewpubs, Breweries, Food</td>\n",
       "      <td>{'Wednesday': '14:0-22:0', 'Thursday': '16:0-2...</td>\n",
       "    </tr>\n",
       "    <tr>\n",
       "      <th>...</th>\n",
       "      <td>...</td>\n",
       "      <td>...</td>\n",
       "      <td>...</td>\n",
       "      <td>...</td>\n",
       "      <td>...</td>\n",
       "      <td>...</td>\n",
       "      <td>...</td>\n",
       "      <td>...</td>\n",
       "      <td>...</td>\n",
       "      <td>...</td>\n",
       "      <td>...</td>\n",
       "      <td>...</td>\n",
       "      <td>...</td>\n",
       "      <td>...</td>\n",
       "    </tr>\n",
       "    <tr>\n",
       "      <th>150341</th>\n",
       "      <td>IUQopTMmYQG-qRtBk-8QnA</td>\n",
       "      <td>Binh's Nails</td>\n",
       "      <td>3388 Gateway Blvd</td>\n",
       "      <td>Edmonton</td>\n",
       "      <td>AB</td>\n",
       "      <td>T6J 5H2</td>\n",
       "      <td>53.468419</td>\n",
       "      <td>-113.492054</td>\n",
       "      <td>3.0</td>\n",
       "      <td>13</td>\n",
       "      <td>1</td>\n",
       "      <td>{'ByAppointmentOnly': 'False', 'RestaurantsPri...</td>\n",
       "      <td>Nail Salons, Beauty &amp; Spas</td>\n",
       "      <td>{'Monday': '10:0-19:30', 'Tuesday': '10:0-19:3...</td>\n",
       "    </tr>\n",
       "    <tr>\n",
       "      <th>150342</th>\n",
       "      <td>c8GjPIOTGVmIemT7j5_SyQ</td>\n",
       "      <td>Wild Birds Unlimited</td>\n",
       "      <td>2813 Bransford Ave</td>\n",
       "      <td>Nashville</td>\n",
       "      <td>TN</td>\n",
       "      <td>37204</td>\n",
       "      <td>36.115118</td>\n",
       "      <td>-86.766925</td>\n",
       "      <td>4.0</td>\n",
       "      <td>5</td>\n",
       "      <td>1</td>\n",
       "      <td>{'BusinessAcceptsCreditCards': 'True', 'Restau...</td>\n",
       "      <td>Pets, Nurseries &amp; Gardening, Pet Stores, Hobby...</td>\n",
       "      <td>{'Monday': '9:30-17:30', 'Tuesday': '9:30-17:3...</td>\n",
       "    </tr>\n",
       "    <tr>\n",
       "      <th>150343</th>\n",
       "      <td>_QAMST-NrQobXduilWEqSw</td>\n",
       "      <td>Claire's Boutique</td>\n",
       "      <td>6020 E 82nd St, Ste 46</td>\n",
       "      <td>Indianapolis</td>\n",
       "      <td>IN</td>\n",
       "      <td>46250</td>\n",
       "      <td>39.908707</td>\n",
       "      <td>-86.065088</td>\n",
       "      <td>3.5</td>\n",
       "      <td>8</td>\n",
       "      <td>1</td>\n",
       "      <td>{'RestaurantsPriceRange2': '1', 'BusinessAccep...</td>\n",
       "      <td>Shopping, Jewelry, Piercing, Toy Stores, Beaut...</td>\n",
       "      <td>None</td>\n",
       "    </tr>\n",
       "    <tr>\n",
       "      <th>150344</th>\n",
       "      <td>mtGm22y5c2UHNXDFAjaPNw</td>\n",
       "      <td>Cyclery &amp; Fitness Center</td>\n",
       "      <td>2472 Troy Rd</td>\n",
       "      <td>Edwardsville</td>\n",
       "      <td>IL</td>\n",
       "      <td>62025</td>\n",
       "      <td>38.782351</td>\n",
       "      <td>-89.950558</td>\n",
       "      <td>4.0</td>\n",
       "      <td>24</td>\n",
       "      <td>1</td>\n",
       "      <td>{'BusinessParking': '{'garage': False, 'street...</td>\n",
       "      <td>Fitness/Exercise Equipment, Eyewear &amp; Optician...</td>\n",
       "      <td>{'Monday': '9:0-20:0', 'Tuesday': '9:0-20:0', ...</td>\n",
       "    </tr>\n",
       "    <tr>\n",
       "      <th>150345</th>\n",
       "      <td>jV_XOycEzSlTx-65W906pg</td>\n",
       "      <td>Sic Ink</td>\n",
       "      <td>238 Apollo Beach Blvd</td>\n",
       "      <td>Apollo beach</td>\n",
       "      <td>FL</td>\n",
       "      <td>33572</td>\n",
       "      <td>27.771002</td>\n",
       "      <td>-82.394910</td>\n",
       "      <td>4.5</td>\n",
       "      <td>9</td>\n",
       "      <td>1</td>\n",
       "      <td>{'WheelchairAccessible': 'True', 'BusinessAcce...</td>\n",
       "      <td>Beauty &amp; Spas, Permanent Makeup, Piercing, Tattoo</td>\n",
       "      <td>{'Tuesday': '12:0-19:0', 'Wednesday': '12:0-19...</td>\n",
       "    </tr>\n",
       "  </tbody>\n",
       "</table>\n",
       "<p>150346 rows × 14 columns</p>\n",
       "</div>"
      ],
      "text/plain": [
       "                   business_id                      name   \n",
       "0       Pns2l4eNsfO8kk83dixA6A  Abby Rappoport, LAC, CMQ  \\\n",
       "1       mpf3x-BjTdTEA3yCZrAYPw             The UPS Store   \n",
       "2       tUFrWirKiKi_TAnsVWINQQ                    Target   \n",
       "3       MTSW4McQd7CbVtyjqoe9mw        St Honore Pastries   \n",
       "4       mWMc6_wTdE0EUBKIGXDVfA  Perkiomen Valley Brewery   \n",
       "...                        ...                       ...   \n",
       "150341  IUQopTMmYQG-qRtBk-8QnA              Binh's Nails   \n",
       "150342  c8GjPIOTGVmIemT7j5_SyQ      Wild Birds Unlimited   \n",
       "150343  _QAMST-NrQobXduilWEqSw         Claire's Boutique   \n",
       "150344  mtGm22y5c2UHNXDFAjaPNw  Cyclery & Fitness Center   \n",
       "150345  jV_XOycEzSlTx-65W906pg                   Sic Ink   \n",
       "\n",
       "                                address           city state postal_code   \n",
       "0                1616 Chapala St, Ste 2  Santa Barbara    CA       93101  \\\n",
       "1       87 Grasso Plaza Shopping Center         Affton    MO       63123   \n",
       "2                  5255 E Broadway Blvd         Tucson    AZ       85711   \n",
       "3                           935 Race St   Philadelphia    PA       19107   \n",
       "4                         101 Walnut St     Green Lane    PA       18054   \n",
       "...                                 ...            ...   ...         ...   \n",
       "150341                3388 Gateway Blvd       Edmonton    AB     T6J 5H2   \n",
       "150342               2813 Bransford Ave      Nashville    TN       37204   \n",
       "150343           6020 E 82nd St, Ste 46   Indianapolis    IN       46250   \n",
       "150344                     2472 Troy Rd   Edwardsville    IL       62025   \n",
       "150345            238 Apollo Beach Blvd   Apollo beach    FL       33572   \n",
       "\n",
       "         latitude   longitude  stars  review_count  is_open   \n",
       "0       34.426679 -119.711197    5.0             7        0  \\\n",
       "1       38.551126  -90.335695    3.0            15        1   \n",
       "2       32.223236 -110.880452    3.5            22        0   \n",
       "3       39.955505  -75.155564    4.0            80        1   \n",
       "4       40.338183  -75.471659    4.5            13        1   \n",
       "...           ...         ...    ...           ...      ...   \n",
       "150341  53.468419 -113.492054    3.0            13        1   \n",
       "150342  36.115118  -86.766925    4.0             5        1   \n",
       "150343  39.908707  -86.065088    3.5             8        1   \n",
       "150344  38.782351  -89.950558    4.0            24        1   \n",
       "150345  27.771002  -82.394910    4.5             9        1   \n",
       "\n",
       "                                               attributes   \n",
       "0                           {'ByAppointmentOnly': 'True'}  \\\n",
       "1                  {'BusinessAcceptsCreditCards': 'True'}   \n",
       "2       {'BikeParking': 'True', 'BusinessAcceptsCredit...   \n",
       "3       {'RestaurantsDelivery': 'False', 'OutdoorSeati...   \n",
       "4       {'BusinessAcceptsCreditCards': 'True', 'Wheelc...   \n",
       "...                                                   ...   \n",
       "150341  {'ByAppointmentOnly': 'False', 'RestaurantsPri...   \n",
       "150342  {'BusinessAcceptsCreditCards': 'True', 'Restau...   \n",
       "150343  {'RestaurantsPriceRange2': '1', 'BusinessAccep...   \n",
       "150344  {'BusinessParking': '{'garage': False, 'street...   \n",
       "150345  {'WheelchairAccessible': 'True', 'BusinessAcce...   \n",
       "\n",
       "                                               categories   \n",
       "0       Doctors, Traditional Chinese Medicine, Naturop...  \\\n",
       "1       Shipping Centers, Local Services, Notaries, Ma...   \n",
       "2       Department Stores, Shopping, Fashion, Home & G...   \n",
       "3       Restaurants, Food, Bubble Tea, Coffee & Tea, B...   \n",
       "4                               Brewpubs, Breweries, Food   \n",
       "...                                                   ...   \n",
       "150341                         Nail Salons, Beauty & Spas   \n",
       "150342  Pets, Nurseries & Gardening, Pet Stores, Hobby...   \n",
       "150343  Shopping, Jewelry, Piercing, Toy Stores, Beaut...   \n",
       "150344  Fitness/Exercise Equipment, Eyewear & Optician...   \n",
       "150345  Beauty & Spas, Permanent Makeup, Piercing, Tattoo   \n",
       "\n",
       "                                                    hours  \n",
       "0                                                    None  \n",
       "1       {'Monday': '0:0-0:0', 'Tuesday': '8:0-18:30', ...  \n",
       "2       {'Monday': '8:0-22:0', 'Tuesday': '8:0-22:0', ...  \n",
       "3       {'Monday': '7:0-20:0', 'Tuesday': '7:0-20:0', ...  \n",
       "4       {'Wednesday': '14:0-22:0', 'Thursday': '16:0-2...  \n",
       "...                                                   ...  \n",
       "150341  {'Monday': '10:0-19:30', 'Tuesday': '10:0-19:3...  \n",
       "150342  {'Monday': '9:30-17:30', 'Tuesday': '9:30-17:3...  \n",
       "150343                                               None  \n",
       "150344  {'Monday': '9:0-20:0', 'Tuesday': '9:0-20:0', ...  \n",
       "150345  {'Tuesday': '12:0-19:0', 'Wednesday': '12:0-19...  \n",
       "\n",
       "[150346 rows x 14 columns]"
      ]
     },
     "execution_count": 2,
     "metadata": {},
     "output_type": "execute_result"
    }
   ],
   "source": [
    "df_b"
   ]
  },
  {
   "cell_type": "code",
   "execution_count": 4,
   "id": "434c4cd8",
   "metadata": {},
   "outputs": [
    {
     "data": {
      "text/plain": [
       "7314"
      ]
     },
     "execution_count": 4,
     "metadata": {},
     "output_type": "execute_result"
    }
   ],
   "source": [
    "num = 0\n",
    "i = 0\n",
    "drop_index = []\n",
    "for index, row in df_b.iterrows():\n",
    "    if row[\"categories\"] is not None:\n",
    "        if (\"Restaurants\" in (row[\"categories\"]) or \"Food\" in (row[\"categories\"])) and row[\"is_open\"] == 1 and row[\"review_count\"] >= 15 and row[\"state\"] == \"PA\":\n",
    "            num+=1\n",
    "        else:\n",
    "            drop_index.append(index)\n",
    "    else:\n",
    "        drop_index.append(index)\n",
    "num"
   ]
  },
  {
   "cell_type": "code",
   "execution_count": 5,
   "id": "34e923b4",
   "metadata": {},
   "outputs": [
    {
     "name": "stdout",
     "output_type": "stream",
     "text": [
      "846075\n"
     ]
    }
   ],
   "source": [
    "df_b.drop(drop_index, axis=0, inplace=True)\n",
    "len(df_b)\n",
    "print(np.sum(list(df_b[\"review_count\"])))\n"
   ]
  },
  {
   "cell_type": "code",
   "execution_count": 7,
   "id": "7525c09c",
   "metadata": {},
   "outputs": [],
   "source": [
    "business_lookup = {n: True for n in list(df_b[\"business_id\"])}"
   ]
  },
  {
   "cell_type": "code",
   "execution_count": 8,
   "id": "b082abff",
   "metadata": {},
   "outputs": [],
   "source": [
    "import json\n",
    "import pandas as pd\n",
    "data_file = open(f\"{base_dir}/yelp_academic_dataset_review.json\", encoding='utf-8')\n",
    "cutoffs = []\n",
    "for i in range(int(7000000/500000)+1):\n",
    "    cutoffs.append(i*500000)"
   ]
  },
  {
   "cell_type": "code",
   "execution_count": 9,
   "id": "10aa626c",
   "metadata": {},
   "outputs": [
    {
     "name": "stdout",
     "output_type": "stream",
     "text": [
      "broken\n",
      "broken\n",
      "broken\n",
      "broken\n",
      "broken\n",
      "broken\n",
      "broken\n",
      "broken\n",
      "broken\n",
      "broken\n",
      "broken\n",
      "broken\n",
      "broken\n"
     ]
    }
   ],
   "source": [
    "for j in range(len(cutoffs)-1):\n",
    "    data = []\n",
    "    data_file = open(f\"{base_dir}/yelp_academic_dataset_review.json\", encoding='utf-8')\n",
    "    for i, line in enumerate(data_file):\n",
    "        if i >= cutoffs[j] and i < cutoffs[j+1]:\n",
    "            data.append(json.loads(line))\n",
    "        if i > cutoffs[j+1]:\n",
    "            print(\"broken\")\n",
    "            break\n",
    "    df = pd.DataFrame(data)\n",
    "    data_file.close()\n",
    "    index_to_remove = []\n",
    "    for index, row in df.iterrows():\n",
    "        if row[\"business_id\"] not in business_lookup:\n",
    "            index_to_remove.append(index)\n",
    "    df.drop(index_to_remove, axis=0, inplace=True)\n",
    "    curr_df = pd.DataFrame(df)\n",
    "    curr_df.to_csv(f'{base_dir}/PA_reviews/reviews_' + str(j) + \".csv\", index=False)\n"
   ]
  },
  {
   "cell_type": "code",
   "execution_count": 21,
   "id": "13654037",
   "metadata": {},
   "outputs": [
    {
     "name": "stdout",
     "output_type": "stream",
     "text": [
      "(877333,)\n"
     ]
    }
   ],
   "source": [
    "import os\n",
    "import numpy as np\n",
    "\n",
    "folder_path = f'{base_dir}/PA_reviews'\n",
    "user_set = np.array([])\n",
    "review_counter = 0\n",
    "\n",
    "for filename in os.listdir(folder_path):\n",
    "    file_path = os.path.join(folder_path, filename)\n",
    "    if os.path.isfile(file_path):\n",
    "        df = pd.read_csv(file_path)\n",
    "        review_counter += len(df)\n",
    "        user_list = np.array(df[\"user_id\"])\n",
    "        user_set = np.concatenate((user_set, user_list))\n",
    "\n",
    "print(user_set.shape)"
   ]
  },
  {
   "cell_type": "code",
   "execution_count": 22,
   "id": "d993c322",
   "metadata": {},
   "outputs": [
    {
     "name": "stdout",
     "output_type": "stream",
     "text": [
      "275128\n"
     ]
    },
    {
     "data": {
      "text/plain": [
       "877333"
      ]
     },
     "execution_count": 22,
     "metadata": {},
     "output_type": "execute_result"
    }
   ],
   "source": [
    "user_set = set(list(user_set)) #1309910\n",
    "print(len(user_set))\n",
    "review_counter #3990304"
   ]
  },
  {
   "cell_type": "code",
   "execution_count": 23,
   "id": "8d52fb01",
   "metadata": {},
   "outputs": [
    {
     "data": {
      "text/plain": [
       "275128"
      ]
     },
     "execution_count": 23,
     "metadata": {},
     "output_type": "execute_result"
    }
   ],
   "source": [
    "user_lookup = {n: True for n in list(user_set)}\n",
    "len(user_lookup)"
   ]
  },
  {
   "cell_type": "code",
   "execution_count": 24,
   "id": "8f41490e",
   "metadata": {},
   "outputs": [],
   "source": [
    "cutoffs = []\n",
    "for i in range(int(2000000/500000)+1):\n",
    "    cutoffs.append(i*500000)"
   ]
  },
  {
   "cell_type": "code",
   "execution_count": 25,
   "id": "7448eab7",
   "metadata": {},
   "outputs": [
    {
     "name": "stdout",
     "output_type": "stream",
     "text": [
      "broken\n",
      "broken\n",
      "broken\n"
     ]
    },
    {
     "data": {
      "text/plain": [
       "1712770"
      ]
     },
     "execution_count": 25,
     "metadata": {},
     "output_type": "execute_result"
    }
   ],
   "source": [
    "r_counter=0\n",
    "\n",
    "for j in range(len(cutoffs)-1):\n",
    "    data = []\n",
    "    data_file = open(f\"{base_dir}/yelp_academic_dataset_user.json\", encoding='utf-8')\n",
    "    for i, line in enumerate(data_file):\n",
    "        if i >= cutoffs[j] and i < cutoffs[j+1]:\n",
    "            data.append(json.loads(line))\n",
    "        if i > cutoffs[j+1]:\n",
    "            print(\"broken\")\n",
    "            break\n",
    "    df = pd.DataFrame(data)\n",
    "    data_file.close()\n",
    "    index_to_remove = []\n",
    "    for index, row in df.iterrows():\n",
    "        if row[\"user_id\"] not in user_lookup:\n",
    "            r_counter +=1\n",
    "            index_to_remove.append(index)\n",
    "    df.drop(index_to_remove, axis=0, inplace=True)\n",
    "    curr_df = pd.DataFrame(df)\n",
    "    curr_df.to_csv(f'{base_dir}/PA_users/users_' + str(j) + \".csv\", index=False)\n",
    "r_counter"
   ]
  },
  {
   "cell_type": "code",
   "execution_count": 26,
   "id": "53dde37a",
   "metadata": {},
   "outputs": [],
   "source": [
    "from vaderSentiment.vaderSentiment import SentimentIntensityAnalyzer\n",
    "sid_obj = SentimentIntensityAnalyzer()"
   ]
  },
  {
   "cell_type": "code",
   "execution_count": 27,
   "id": "184334b5",
   "metadata": {},
   "outputs": [
    {
     "name": "stdout",
     "output_type": "stream",
     "text": [
      "{'neg': 0.0, 'neu': 1.0, 'pos': 0.0, 'compound': 0.0}\n"
     ]
    }
   ],
   "source": [
    "sentence = \"test\"\n",
    "sentiment_dict = sid_obj.polarity_scores(sentence)\n",
    "print(sentiment_dict)"
   ]
  },
  {
   "cell_type": "code",
   "execution_count": 28,
   "id": "56608175",
   "metadata": {},
   "outputs": [
    {
     "name": "stdout",
     "output_type": "stream",
     "text": [
      "1\n",
      "2\n",
      "3\n",
      "4\n",
      "5\n",
      "6\n",
      "7\n",
      "8\n",
      "9\n",
      "10\n",
      "11\n",
      "12\n",
      "13\n",
      "14\n"
     ]
    }
   ],
   "source": [
    "import os\n",
    "import numpy as np\n",
    "import pandas as pd\n",
    "from vaderSentiment.vaderSentiment import SentimentIntensityAnalyzer\n",
    "folder_path = f'{base_dir}}/PA_reviews/'\n",
    "k = 0\n",
    "sid = SentimentIntensityAnalyzer()\n",
    "\n",
    "for filename in os.listdir(folder_path):\n",
    "    file_path = os.path.join(folder_path, filename)\n",
    "    if os.path.isfile(file_path):\n",
    "        df = pd.read_csv(file_path)\n",
    "        df['score'] = df['text'].apply(lambda txt: sid.polarity_scores(txt))\n",
    "        df['negative'] = df['score'].apply(lambda txt: txt['neg'])\n",
    "        df['neutral'] = df['score'].apply(lambda txt: txt['neu'])\n",
    "        df['positive'] = df['score'].apply(lambda txt: txt['pos'])\n",
    "        df['compound'] = df['score'].apply(lambda txt: txt['compound'])\n",
    "        curr_df = pd.DataFrame(df)\n",
    "        k += 1\n",
    "        curr_df.to_csv(f'{base_dir}/vader/PA_vader' + str(k) + \".csv\", index=False)\n",
    "        print(k)\n",
    "        "
   ]
  },
  {
   "cell_type": "code",
   "execution_count": 51,
   "id": "55ac4699",
   "metadata": {},
   "outputs": [
    {
     "data": {
      "text/plain": [
       "1.3608686653007593"
      ]
     },
     "execution_count": 51,
     "metadata": {},
     "output_type": "execute_result"
    }
   ],
   "source": [
    "import os\n",
    "import numpy as np\n",
    "import pandas as pd\n",
    "\n",
    "users_dict = {}\n",
    "stars_sum = 0\n",
    "stars = None\n",
    "folder_path = f'{base_dir}}/PA_reviews/'\n",
    "\n",
    "for filename in os.listdir(folder_path):\n",
    "    file_path = os.path.join(folder_path, filename)\n",
    "    if os.path.isfile(file_path):\n",
    "        df = pd.read_csv(file_path)\n",
    "        if stars is None:\n",
    "            stars = list(df[\"stars\"])\n",
    "        else:\n",
    "            stars.extend(list(df[\"stars\"]))\n",
    "        stars_sum += df['stars'].sum()\n",
    "        for user_id in df[\"user_id\"]:\n",
    "            if user_id in users_dict:\n",
    "                users_dict[user_id] += 1\n",
    "            else:\n",
    "                users_dict[user_id] = 1"
   ]
  },
  {
   "cell_type": "code",
   "execution_count": 52,
   "id": "ee0c5eaf",
   "metadata": {},
   "outputs": [
    {
     "data": {
      "text/plain": [
       "1.3608686653007593"
      ]
     },
     "execution_count": 52,
     "metadata": {},
     "output_type": "execute_result"
    }
   ],
   "source": [
    "std_dev = np.std(stars)\n",
    "std_dev"
   ]
  },
  {
   "cell_type": "code",
   "execution_count": 2,
   "id": "1ccb65a4",
   "metadata": {},
   "outputs": [
    {
     "data": {
      "text/plain": [
       "206541"
      ]
     },
     "execution_count": 2,
     "metadata": {},
     "output_type": "execute_result"
    }
   ],
   "source": [
    "users_to_remove = []\n",
    "for id, value in users_dict.items():\n",
    "    if value <= 2:\n",
    "        users_to_remove.append(id)\n",
    "len(users_to_remove)"
   ]
  },
  {
   "cell_type": "code",
   "execution_count": 47,
   "id": "0b2bbeaa",
   "metadata": {},
   "outputs": [
    {
     "data": {
      "text/plain": [
       "3.1888175685499114"
      ]
     },
     "execution_count": 47,
     "metadata": {},
     "output_type": "execute_result"
    }
   ],
   "source": [
    "count=0\n",
    "sum = 0\n",
    "for id, value in users_dict.items():\n",
    "    count+=1\n",
    "    sum+=value\n",
    "\n",
    "sum/count"
   ]
  },
  {
   "cell_type": "code",
   "execution_count": 46,
   "id": "e9537357",
   "metadata": {},
   "outputs": [
    {
     "data": {
      "text/plain": [
       "3.7993202125076797"
      ]
     },
     "execution_count": 46,
     "metadata": {},
     "output_type": "execute_result"
    }
   ],
   "source": [
    "stars_sum/sum"
   ]
  },
  {
   "cell_type": "code",
   "execution_count": 17,
   "id": "048e9eb0",
   "metadata": {},
   "outputs": [
    {
     "data": {
      "image/png": "[encoded data removed]",
      "text/plain": [
       "<Figure size 640x480 with 1 Axes>"
      ]
     },
     "metadata": {},
     "output_type": "display_data"
    }
   ],
   "source": [
    "import matplotlib.pyplot as plt\n",
    "\n",
    "review_counts = users_dict.values()\n",
    "bins = [1, 2, 3, 4, 5, 6, 7, 8, 9, 10, 11]\n",
    "plt.hist(review_counts, bins=bins)\n",
    "plt.xlabel('Number of Reviews')\n",
    "plt.ylabel('Number of Users')\n",
    "plt.title('Distribution of Reviews per User')\n",
    "\n",
    "plt.xticks(bins[:-1])\n",
    "bin_labels = [f'{bins[i]}' for i in range(len(bins)-1)]\n",
    "bin_labels[-1] = '10+'\n",
    "plt.xticks(bins[:-1], bin_labels)\n",
    "\n",
    "# Display the plot\n",
    "plt.show()"
   ]
  },
  {
   "cell_type": "code",
   "execution_count": 4,
   "id": "ccbcece5",
   "metadata": {},
   "outputs": [
    {
     "data": {
      "text/plain": [
       "68587"
      ]
     },
     "execution_count": 4,
     "metadata": {},
     "output_type": "execute_result"
    }
   ],
   "source": [
    "users_to_keep = []\n",
    "for id, value in users_dict.items():\n",
    "    if value > 2:\n",
    "        users_to_keep.append(id)\n",
    "len(users_to_keep)"
   ]
  },
  {
   "cell_type": "code",
   "execution_count": 36,
   "id": "08bcb1ef",
   "metadata": {},
   "outputs": [],
   "source": [
    "import os\n",
    "import pandas as pd\n",
    "\n",
    "final_df = None\n",
    "folder_path = f'{base_dir}/PA_vader/'\n",
    "\n",
    "for filename in os.listdir(folder_path):\n",
    "    file_path = os.path.join(folder_path, filename)\n",
    "    if os.path.isfile(file_path):\n",
    "        df = pd.read_csv(file_path)\n",
    "        df = df[~df[\"user_id\"].isin(users_to_remove)]\n",
    "        if final_df is None:\n",
    "            final_df = df\n",
    "        else:\n",
    "            final_df = pd.concat([final_df, df], axis=0)\n",
    "        \n",
    "final_df.to_csv(f\"{base_dir}/cleaned_data/reviews.csv\", index=False)"
   ]
  },
  {
   "cell_type": "code",
   "execution_count": 37,
   "id": "decc4056",
   "metadata": {},
   "outputs": [
    {
     "name": "stdout",
     "output_type": "stream",
     "text": [
      "626103\n"
     ]
    }
   ],
   "source": [
    "print(len(final_df))"
   ]
  },
  {
   "cell_type": "code",
   "execution_count": 86,
   "id": "7434db8e",
   "metadata": {},
   "outputs": [
    {
     "name": "stdout",
     "output_type": "stream",
     "text": [
      "(626103, 14)\n"
     ]
    }
   ],
   "source": [
    "users_dict = {}\n",
    "stars = None\n",
    "sentiment = None\n",
    "folder_path = f\"{base_dir}/cleaned_data/reviews.csv\"\n",
    "df = pd.read_csv(folder_path)\n",
    "print(df.shape)\n",
    "if stars is None:\n",
    "    stars = list(df[\"stars\"])\n",
    "else:\n",
    "    stars.extend(list(df[\"stars\"]))\n",
    "if sentiment is None:\n",
    "    sentiment = list(df[\"compound\"])\n",
    "else:\n",
    "    sentiment.extend(list(df[\"compound\"]))\n",
    "for user_id in df[\"user_id\"]:\n",
    "    if user_id in users_dict:\n",
    "        users_dict[user_id] += 1\n",
    "    else:\n",
    "        users_dict[user_id] = 1"
   ]
  },
  {
   "cell_type": "code",
   "execution_count": 75,
   "id": "62430500",
   "metadata": {},
   "outputs": [
    {
     "data": {
      "text/plain": [
       "9.128595798037528"
      ]
     },
     "execution_count": 75,
     "metadata": {},
     "output_type": "execute_result"
    }
   ],
   "source": [
    "count=0\n",
    "sum = 0\n",
    "for id, value in users_dict.items():\n",
    "    count+=1\n",
    "    sum+=value\n",
    "\n",
    "sum/count"
   ]
  },
  {
   "cell_type": "code",
   "execution_count": 88,
   "id": "a29be2f3",
   "metadata": {},
   "outputs": [
    {
     "name": "stdout",
     "output_type": "stream",
     "text": [
      "0.4826658839831325\n"
     ]
    },
    {
     "data": {
      "text/plain": [
       "0.7173455872276603"
      ]
     },
     "execution_count": 88,
     "metadata": {},
     "output_type": "execute_result"
    }
   ],
   "source": [
    "std_dev = np.std(sentiment)\n",
    "print(std_dev)\n",
    "mean = np.mean(sentiment)\n",
    "mean"
   ]
  },
  {
   "cell_type": "code",
   "execution_count": 87,
   "id": "5eb9b583",
   "metadata": {},
   "outputs": [
    {
     "name": "stdout",
     "output_type": "stream",
     "text": [
      "1.257508951167413\n"
     ]
    },
    {
     "data": {
      "text/plain": [
       "3.8479483407682125"
      ]
     },
     "execution_count": 87,
     "metadata": {},
     "output_type": "execute_result"
    }
   ],
   "source": [
    "std_dev = np.std(stars)\n",
    "print(std_dev)\n",
    "mean = np.mean(stars)\n",
    "mean"
   ]
  },
  {
   "cell_type": "code",
   "execution_count": 83,
   "id": "b20bfe6e",
   "metadata": {},
   "outputs": [
    {
     "data": {
      "image/png": "[encoded data removed]",
      "text/plain": [
       "<Figure size 640x480 with 1 Axes>"
      ]
     },
     "metadata": {},
     "output_type": "display_data"
    }
   ],
   "source": [
    "import matplotlib.pyplot as plt\n",
    "\n",
    "review_counts = users_dict.values()\n",
    "bins = [3, 4, 5, 6, 7, 8, 9, 10, 11]\n",
    "plt.hist(review_counts, bins=bins)\n",
    "plt.xlabel('Number of Reviews')\n",
    "plt.ylabel('Number of Users')\n",
    "plt.title('Distribution of Reviews per User')\n",
    "\n",
    "plt.xticks(bins[:-1])\n",
    "bin_labels = ['3', '4', '5', '6', '7', '8', '9', '10+']\n",
    "plt.xticks(bins[:-1], bin_labels)\n",
    "\n",
    "# Display the plot\n",
    "plt.show()"
   ]
  },
  {
   "cell_type": "code",
   "execution_count": 76,
   "id": "9fed5768",
   "metadata": {},
   "outputs": [
    {
     "name": "stdout",
     "output_type": "stream",
     "text": [
      "626103\n"
     ]
    }
   ],
   "source": [
    "print(sum)"
   ]
  },
  {
   "cell_type": "code",
   "execution_count": 40,
   "id": "fc44dd03",
   "metadata": {},
   "outputs": [],
   "source": [
    "#import os\n",
    "#import pandas as pd\n",
    "#k = 0\n",
    "#final_df = None\n",
    "#folder_path = 'D:/FlavorFriend/yelp_dataset/PA_users/'\n",
    "\n",
    "#for filename in os.listdir(folder_path):\n",
    "    #file_path = os.path.join(folder_path, filename)\n",
    "    #if os.path.isfile(file_path):\n",
    "        #k+=1\n",
    "        #df = pd.read_csv(file_path)\n",
    "        #df = df[~df[\"user_id\"].isin(users_to_remove)]\n",
    "        #df.to_csv(\"D:/FlavorFriend/yelp_dataset/cleaned_data/users\" + str(k) + \".csv\", index=False)\n",
    "        #if final_df is None:\n",
    "        #    final_df = df\n",
    "        #else:\n",
    "        #    final_df = pd.concat([final_df, df], axis=0)\n",
    "        \n",
    "#final_df.to_csv(\"D:/FlavorFriend/yelp_dataset/cleaned_data/users.csv\", index=False)"
   ]
  },
  {
   "cell_type": "code",
   "execution_count": 6,
   "id": "7c24a98e",
   "metadata": {},
   "outputs": [],
   "source": [
    "business_json_path = f'{base_dir}/yelp_academic_dataset_user.json'\n",
    "df = pd.read_json(business_json_path, lines=True)\n",
    "index_to_keep = df[df[\"user_id\"].isin(users_to_keep)].index\n",
    "df = df.loc[index_to_keep]\n",
    "df.to_csv(f'{base_dir}/cleaned_data/users.csv', index=False)"
   ]
  },
  {
   "cell_type": "code",
   "execution_count": 7,
   "id": "8b717b4e",
   "metadata": {},
   "outputs": [
    {
     "name": "stdout",
     "output_type": "stream",
     "text": [
      "68587\n"
     ]
    }
   ],
   "source": [
    "print(len(df))"
   ]
  },
  {
   "cell_type": "code",
   "execution_count": 8,
   "id": "a360d033",
   "metadata": {},
   "outputs": [
    {
     "data": {
      "text/plain": [
       "7314"
      ]
     },
     "execution_count": 8,
     "metadata": {},
     "output_type": "execute_result"
    }
   ],
   "source": [
    "business_json_path = f'{base_dir}/yelp_academic_dataset_business.json'\n",
    "df_b = pd.read_json(business_json_path, lines=True)\n",
    "num = 0\n",
    "i = 0\n",
    "drop_index = []\n",
    "for index, row in df_b.iterrows():\n",
    "    if row[\"categories\"] is not None:\n",
    "        if (\"Restaurants\" in (row[\"categories\"]) or \"Food\" in (row[\"categories\"])) and row[\"is_open\"] == 1 and row[\"review_count\"] >= 15 and row[\"state\"] == \"PA\":\n",
    "            num+=1\n",
    "        else:\n",
    "            drop_index.append(index)\n",
    "    else:\n",
    "        drop_index.append(index)\n",
    "num\n",
    "df_b.drop(drop_index, axis=0, inplace=True)\n",
    "len(df_b)"
   ]
  },
  {
   "cell_type": "code",
   "execution_count": 9,
   "id": "34286c4c",
   "metadata": {},
   "outputs": [],
   "source": [
    "df_b.to_csv(f'{base_dir}/cleaned_data/business.csv', index=False)"
   ]
  }
 ],
 "metadata": {
  "kernelspec": {
   "display_name": "Python 3 (ipykernel)",
   "language": "python",
   "name": "python3"
  },
  "language_info": {
   "codemirror_mode": {
    "name": "ipython",
    "version": 3
   },
   "file_extension": ".py",
   "mimetype": "text/x-python",
   "name": "python",
   "nbconvert_exporter": "python",
   "pygments_lexer": "ipython3",
   "version": "3.9.16"
  }
 },
 "nbformat": 4,
 "nbformat_minor": 5
}
